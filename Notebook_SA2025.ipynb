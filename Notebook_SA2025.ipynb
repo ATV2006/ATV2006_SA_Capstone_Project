{
 "cells": [
  {
   "cell_type": "code",
   "execution_count": 19,
   "metadata": {
    "colab": {
     "base_uri": "https://localhost:8080/",
     "height": 1000
    },
    "id": "5ZkIKPTsFZNd",
    "outputId": "d5540a99-6329-4d5d-9a46-d8deaff5a324"
   },
   "outputs": [
    {
     "name": "stdout",
     "output_type": "stream",
     "text": [
      "Requirement already satisfied: pathway in c:\\users\\athar\\anaconda3\\lib\\site-packages (0.post1)\n"
     ]
    }
   ],
   "source": [
    "!pip install pathway"
   ]
  },
  {
   "cell_type": "code",
   "execution_count": 20,
   "metadata": {
    "colab": {
     "base_uri": "https://localhost:8080/",
     "height": 17
    },
    "id": "1Zjnabq-Feg4",
    "outputId": "d29e335d-8269-4167-f835-afc29449d584"
   },
   "outputs": [],
   "source": [
    "import pandas as pd  # imports\n",
    "import pathway as pw"
   ]
  },
  {
   "cell_type": "code",
   "execution_count": null,
   "metadata": {
    "id": "vjTTwEKxHBsG"
   },
   "outputs": [],
   "source": []
  },
  {
   "cell_type": "code",
   "execution_count": 21,
   "metadata": {
    "id": "_uNmlBoiHJPH"
   },
   "outputs": [],
   "source": [
    "# Load and preprocess the data\n",
    "df = pd.read_csv('dataset.csv')  # Loading the data\n",
    "df[\"timestamp\"] = pd.to_datetime(df[\"LastUpdatedDate\"] + \" \" + df[\"LastUpdatedTime\"], dayfirst=True)\n",
    "df[\"TrafficConditionNearby\"] = pd.to_numeric(df[\"TrafficConditionNearby\"], errors=\"coerce\").fillna(0).astype(int)\n",
    "df[\"QueueLength\"] = pd.to_numeric(df[\"QueueLength\"], errors=\"coerce\").fillna(0).astype(int)\n",
    "df[\"IsSpecialDay\"] = df[\"IsSpecialDay\"].astype(bool)\n",
    "df[\"VehicleType\"] = df[\"VehicleType\"].fillna(\"car\")"
   ]
  },
  {
   "cell_type": "code",
   "execution_count": 22,
   "metadata": {
    "id": "F87twaVBHKF_"
   },
   "outputs": [],
   "source": [
    "# Select and rename columns\n",
    "cleaned_df = df[[\n",
    "    \"timestamp\", \"Occupancy\", \"Capacity\", \"QueueLength\",\n",
    "    \"TrafficConditionNearby\", \"IsSpecialDay\", \"VehicleType\"\n",
    "]]\n",
    "cleaned_df.columns = [\n",
    "    \"timestamp\", \"occupancy\", \"capacity\", \"queue\",\n",
    "    \"traffic\", \"special_day\", \"vehicle_type\"\n",
    "]"
   ]
  },
  {
   "cell_type": "code",
   "execution_count": 23,
   "metadata": {
    "id": "Hh1rrChMHmGO"
   },
   "outputs": [],
   "source": [
    "# Save cleaned data\n",
    "cleaned_df.to_csv(\"parking_stream.csv\", index=False)  # saved here"
   ]
  },
  {
   "cell_type": "code",
   "execution_count": 24,
   "metadata": {
    "id": "_PeBCqzhHe5g"
   },
   "outputs": [
    {
     "name": "stderr",
     "output_type": "stream",
     "text": [
      "This is not the real Pathway package.\n",
      "Visit https://pathway.com/developers/ to get Pathway.\n",
      "Already tried that? Visit https://pathway.com/troubleshooting/ to get help.\n",
      "Note: your platform is Windows-11-10.0.26100-SP0, your Python is CPython 3.12.7.\n"
     ]
    },
    {
     "ename": "AttributeError",
     "evalue": "module 'pathway' has no attribute 'Schema'\nThis is not the real Pathway package.\nVisit https://pathway.com/developers/ to get Pathway.\nAlready tried that? Visit https://pathway.com/troubleshooting/ to get help.\nNote: your platform is Windows-11-10.0.26100-SP0, your Python is CPython 3.12.7.",
     "output_type": "error",
     "traceback": [
      "\u001b[1;31m---------------------------------------------------------------------------\u001b[0m",
      "\u001b[1;31mAttributeError\u001b[0m                            Traceback (most recent call last)",
      "Cell \u001b[1;32mIn[24], line 2\u001b[0m\n\u001b[0;32m      1\u001b[0m \u001b[38;5;66;03m# Define schema for Pathway\u001b[39;00m\n\u001b[1;32m----> 2\u001b[0m \u001b[38;5;28;01mclass\u001b[39;00m \u001b[38;5;21;01mParkingSchema\u001b[39;00m(pw\u001b[38;5;241m.\u001b[39mSchema):  \u001b[38;5;66;03m# common schema\u001b[39;00m\n\u001b[0;32m      3\u001b[0m     timestamp: \u001b[38;5;28mstr\u001b[39m\n\u001b[0;32m      4\u001b[0m     occupancy: \u001b[38;5;28mint\u001b[39m\n",
      "File \u001b[1;32m~\\anaconda3\\Lib\\site-packages\\pathway\\__init__.py:61\u001b[0m, in \u001b[0;36m__getattr__\u001b[1;34m(name)\u001b[0m\n\u001b[0;32m     59\u001b[0m _warn(warning)\n\u001b[0;32m     60\u001b[0m error \u001b[38;5;241m=\u001b[39m error \u001b[38;5;241m+\u001b[39m \u001b[38;5;124m\"\u001b[39m\u001b[38;5;130;01m\\n\u001b[39;00m\u001b[38;5;124m\"\u001b[39m \u001b[38;5;241m+\u001b[39m warning\n\u001b[1;32m---> 61\u001b[0m \u001b[38;5;28;01mraise\u001b[39;00m \u001b[38;5;167;01mAttributeError\u001b[39;00m(error)\n",
      "\u001b[1;31mAttributeError\u001b[0m: module 'pathway' has no attribute 'Schema'\nThis is not the real Pathway package.\nVisit https://pathway.com/developers/ to get Pathway.\nAlready tried that? Visit https://pathway.com/troubleshooting/ to get help.\nNote: your platform is Windows-11-10.0.26100-SP0, your Python is CPython 3.12.7."
     ]
    }
   ],
   "source": [
    "# Define schema for Pathway\n",
    "class ParkingSchema(pw.Schema):  # common schema\n",
    "    timestamp: str\n",
    "    occupancy: int\n",
    "    capacity: int\n",
    "    queue: int\n",
    "    traffic: int\n",
    "    special_day: bool\n",
    "    vehicle_type: str"
   ]
  },
  {
   "cell_type": "code",
   "execution_count": 25,
   "metadata": {
    "id": "MgAQXSYEHzqU"
   },
   "outputs": [
    {
     "name": "stderr",
     "output_type": "stream",
     "text": [
      "This is not the real Pathway package.\n",
      "Visit https://pathway.com/developers/ to get Pathway.\n",
      "Already tried that? Visit https://pathway.com/troubleshooting/ to get help.\n",
      "Note: your platform is Windows-11-10.0.26100-SP0, your Python is CPython 3.12.7.\n"
     ]
    },
    {
     "ename": "AttributeError",
     "evalue": "module 'pathway' has no attribute 'udf'\nThis is not the real Pathway package.\nVisit https://pathway.com/developers/ to get Pathway.\nAlready tried that? Visit https://pathway.com/troubleshooting/ to get help.\nNote: your platform is Windows-11-10.0.26100-SP0, your Python is CPython 3.12.7.",
     "output_type": "error",
     "traceback": [
      "\u001b[1;31m---------------------------------------------------------------------------\u001b[0m",
      "\u001b[1;31mAttributeError\u001b[0m                            Traceback (most recent call last)",
      "Cell \u001b[1;32mIn[25], line 2\u001b[0m\n\u001b[0;32m      1\u001b[0m \u001b[38;5;66;03m# Model 1: Linear pricing\u001b[39;00m\n\u001b[1;32m----> 2\u001b[0m \u001b[38;5;129m@pw\u001b[39m\u001b[38;5;241m.\u001b[39mudf\n\u001b[0;32m      3\u001b[0m \u001b[38;5;28;01mdef\u001b[39;00m \u001b[38;5;21mlinear_price\u001b[39m(occupancy, capacity):\n\u001b[0;32m      4\u001b[0m     base \u001b[38;5;241m=\u001b[39m \u001b[38;5;241m10\u001b[39m\n\u001b[0;32m      5\u001b[0m     \u001b[38;5;28;01mif\u001b[39;00m capacity \u001b[38;5;241m==\u001b[39m \u001b[38;5;241m0\u001b[39m:\n",
      "File \u001b[1;32m~\\anaconda3\\Lib\\site-packages\\pathway\\__init__.py:61\u001b[0m, in \u001b[0;36m__getattr__\u001b[1;34m(name)\u001b[0m\n\u001b[0;32m     59\u001b[0m _warn(warning)\n\u001b[0;32m     60\u001b[0m error \u001b[38;5;241m=\u001b[39m error \u001b[38;5;241m+\u001b[39m \u001b[38;5;124m\"\u001b[39m\u001b[38;5;130;01m\\n\u001b[39;00m\u001b[38;5;124m\"\u001b[39m \u001b[38;5;241m+\u001b[39m warning\n\u001b[1;32m---> 61\u001b[0m \u001b[38;5;28;01mraise\u001b[39;00m \u001b[38;5;167;01mAttributeError\u001b[39;00m(error)\n",
      "\u001b[1;31mAttributeError\u001b[0m: module 'pathway' has no attribute 'udf'\nThis is not the real Pathway package.\nVisit https://pathway.com/developers/ to get Pathway.\nAlready tried that? Visit https://pathway.com/troubleshooting/ to get help.\nNote: your platform is Windows-11-10.0.26100-SP0, your Python is CPython 3.12.7."
     ]
    }
   ],
   "source": [
    "# Model 1: Linear pricing\n",
    "@pw.udf\n",
    "def linear_price(occupancy, capacity):\n",
    "    base = 10\n",
    "    if capacity == 0:\n",
    "        return base\n",
    "    return round(min(20, base + 10 * (occupancy / capacity)), 2)"
   ]
  },
  {
   "cell_type": "code",
   "execution_count": 26,
   "metadata": {
    "id": "RwYp7z50H4M4"
   },
   "outputs": [
    {
     "name": "stderr",
     "output_type": "stream",
     "text": [
      "This is not the real Pathway package.\n",
      "Visit https://pathway.com/developers/ to get Pathway.\n",
      "Already tried that? Visit https://pathway.com/troubleshooting/ to get help.\n",
      "Note: your platform is Windows-11-10.0.26100-SP0, your Python is CPython 3.12.7.\n"
     ]
    },
    {
     "ename": "AttributeError",
     "evalue": "module 'pathway' has no attribute 'udf'\nThis is not the real Pathway package.\nVisit https://pathway.com/developers/ to get Pathway.\nAlready tried that? Visit https://pathway.com/troubleshooting/ to get help.\nNote: your platform is Windows-11-10.0.26100-SP0, your Python is CPython 3.12.7.",
     "output_type": "error",
     "traceback": [
      "\u001b[1;31m---------------------------------------------------------------------------\u001b[0m",
      "\u001b[1;31mAttributeError\u001b[0m                            Traceback (most recent call last)",
      "Cell \u001b[1;32mIn[26], line 2\u001b[0m\n\u001b[0;32m      1\u001b[0m \u001b[38;5;66;03m# Model 2: Demand-based pricing\u001b[39;00m\n\u001b[1;32m----> 2\u001b[0m \u001b[38;5;129m@pw\u001b[39m\u001b[38;5;241m.\u001b[39mudf\n\u001b[0;32m      3\u001b[0m \u001b[38;5;28;01mdef\u001b[39;00m \u001b[38;5;21mdemand_score\u001b[39m(occupancy, capacity, queue, traffic, special_day, vehicle_type):\n\u001b[0;32m      4\u001b[0m     occ_ratio \u001b[38;5;241m=\u001b[39m occupancy \u001b[38;5;241m/\u001b[39m capacity \u001b[38;5;28;01mif\u001b[39;00m capacity \u001b[38;5;28;01melse\u001b[39;00m \u001b[38;5;241m0\u001b[39m\n\u001b[0;32m      5\u001b[0m     queue_score \u001b[38;5;241m=\u001b[39m queue \u001b[38;5;241m/\u001b[39m \u001b[38;5;241m10.0\u001b[39m\n",
      "File \u001b[1;32m~\\anaconda3\\Lib\\site-packages\\pathway\\__init__.py:61\u001b[0m, in \u001b[0;36m__getattr__\u001b[1;34m(name)\u001b[0m\n\u001b[0;32m     59\u001b[0m _warn(warning)\n\u001b[0;32m     60\u001b[0m error \u001b[38;5;241m=\u001b[39m error \u001b[38;5;241m+\u001b[39m \u001b[38;5;124m\"\u001b[39m\u001b[38;5;130;01m\\n\u001b[39;00m\u001b[38;5;124m\"\u001b[39m \u001b[38;5;241m+\u001b[39m warning\n\u001b[1;32m---> 61\u001b[0m \u001b[38;5;28;01mraise\u001b[39;00m \u001b[38;5;167;01mAttributeError\u001b[39;00m(error)\n",
      "\u001b[1;31mAttributeError\u001b[0m: module 'pathway' has no attribute 'udf'\nThis is not the real Pathway package.\nVisit https://pathway.com/developers/ to get Pathway.\nAlready tried that? Visit https://pathway.com/troubleshooting/ to get help.\nNote: your platform is Windows-11-10.0.26100-SP0, your Python is CPython 3.12.7."
     ]
    }
   ],
   "source": [
    "# Model 2: Demand-based pricing\n",
    "@pw.udf\n",
    "def demand_score(occupancy, capacity, queue, traffic, special_day, vehicle_type):\n",
    "    occ_ratio = occupancy / capacity if capacity else 0\n",
    "    queue_score = queue / 10.0\n",
    "    traffic_score = traffic / 10.0\n",
    "    special_score = 1.0 if special_day else 0.0\n",
    "    weight = {\"car\": 1.0, \"bike\": 0.5, \"truck\": 1.5}.get(vehicle_type.lower(), 1.0)\n",
    "    score = (\n",
    "        0.4 * occ_ratio +\n",
    "        0.2 * queue_score +\n",
    "        0.2 * traffic_score +\n",
    "        0.1 * special_score +\n",
    "        0.1 * weight\n",
    "    )\n",
    "    return round(score, 3)\n",
    "@pw.udf\n",
    "def demand_price(score):\n",
    "    return round(min(max(10 * (1 + 0.75 * score), 5), 20), 2)"
   ]
  },
  {
   "cell_type": "code",
   "execution_count": 27,
   "metadata": {
    "id": "Z9X8vOxTIEDI"
   },
   "outputs": [
    {
     "name": "stderr",
     "output_type": "stream",
     "text": [
      "This is not the real Pathway package.\n",
      "Visit https://pathway.com/developers/ to get Pathway.\n",
      "Already tried that? Visit https://pathway.com/troubleshooting/ to get help.\n",
      "Note: your platform is Windows-11-10.0.26100-SP0, your Python is CPython 3.12.7.\n"
     ]
    },
    {
     "ename": "AttributeError",
     "evalue": "module 'pathway' has no attribute 'udf'\nThis is not the real Pathway package.\nVisit https://pathway.com/developers/ to get Pathway.\nAlready tried that? Visit https://pathway.com/troubleshooting/ to get help.\nNote: your platform is Windows-11-10.0.26100-SP0, your Python is CPython 3.12.7.",
     "output_type": "error",
     "traceback": [
      "\u001b[1;31m---------------------------------------------------------------------------\u001b[0m",
      "\u001b[1;31mAttributeError\u001b[0m                            Traceback (most recent call last)",
      "Cell \u001b[1;32mIn[27], line 2\u001b[0m\n\u001b[0;32m      1\u001b[0m \u001b[38;5;66;03m# Model 3: Competitive pricing\u001b[39;00m\n\u001b[1;32m----> 2\u001b[0m \u001b[38;5;129m@pw\u001b[39m\u001b[38;5;241m.\u001b[39mudf\n\u001b[0;32m      3\u001b[0m \u001b[38;5;28;01mdef\u001b[39;00m \u001b[38;5;21mcompetitor_price_adjusted\u001b[39m(own_price):\n\u001b[0;32m      4\u001b[0m     competitor_price \u001b[38;5;241m=\u001b[39m \u001b[38;5;241m12.0\u001b[39m  \u001b[38;5;66;03m# placeholder competitor price\u001b[39;00m\n\u001b[0;32m      5\u001b[0m     \u001b[38;5;28;01mif\u001b[39;00m own_price \u001b[38;5;241m>\u001b[39m competitor_price:\n",
      "File \u001b[1;32m~\\anaconda3\\Lib\\site-packages\\pathway\\__init__.py:61\u001b[0m, in \u001b[0;36m__getattr__\u001b[1;34m(name)\u001b[0m\n\u001b[0;32m     59\u001b[0m _warn(warning)\n\u001b[0;32m     60\u001b[0m error \u001b[38;5;241m=\u001b[39m error \u001b[38;5;241m+\u001b[39m \u001b[38;5;124m\"\u001b[39m\u001b[38;5;130;01m\\n\u001b[39;00m\u001b[38;5;124m\"\u001b[39m \u001b[38;5;241m+\u001b[39m warning\n\u001b[1;32m---> 61\u001b[0m \u001b[38;5;28;01mraise\u001b[39;00m \u001b[38;5;167;01mAttributeError\u001b[39;00m(error)\n",
      "\u001b[1;31mAttributeError\u001b[0m: module 'pathway' has no attribute 'udf'\nThis is not the real Pathway package.\nVisit https://pathway.com/developers/ to get Pathway.\nAlready tried that? Visit https://pathway.com/troubleshooting/ to get help.\nNote: your platform is Windows-11-10.0.26100-SP0, your Python is CPython 3.12.7."
     ]
    }
   ],
   "source": [
    "# Model 3: Competitive pricing\n",
    "@pw.udf\n",
    "def competitor_price_adjusted(own_price):\n",
    "    competitor_price = 12.0  # placeholder competitor price\n",
    "    if own_price > competitor_price:\n",
    "        return round(own_price - 2, 2)\n",
    "    elif own_price < competitor_price:\n",
    "        return round(own_price + 1, 2)\n",
    "    return own_price"
   ]
  },
  {
   "cell_type": "code",
   "execution_count": 28,
   "metadata": {
    "id": "yd_Geo4yIIns"
   },
   "outputs": [
    {
     "name": "stderr",
     "output_type": "stream",
     "text": [
      "This is not the real Pathway package.\n",
      "Visit https://pathway.com/developers/ to get Pathway.\n",
      "Already tried that? Visit https://pathway.com/troubleshooting/ to get help.\n",
      "Note: your platform is Windows-11-10.0.26100-SP0, your Python is CPython 3.12.7.\n"
     ]
    },
    {
     "ename": "AttributeError",
     "evalue": "module 'pathway' has no attribute 'io'\nThis is not the real Pathway package.\nVisit https://pathway.com/developers/ to get Pathway.\nAlready tried that? Visit https://pathway.com/troubleshooting/ to get help.\nNote: your platform is Windows-11-10.0.26100-SP0, your Python is CPython 3.12.7.",
     "output_type": "error",
     "traceback": [
      "\u001b[1;31m---------------------------------------------------------------------------\u001b[0m",
      "\u001b[1;31mAttributeError\u001b[0m                            Traceback (most recent call last)",
      "Cell \u001b[1;32mIn[28], line 2\u001b[0m\n\u001b[0;32m      1\u001b[0m \u001b[38;5;66;03m# Streaming the input data\u001b[39;00m\n\u001b[1;32m----> 2\u001b[0m data \u001b[38;5;241m=\u001b[39m pw\u001b[38;5;241m.\u001b[39mio\u001b[38;5;241m.\u001b[39mcsv\u001b[38;5;241m.\u001b[39mread(\u001b[38;5;124m\"\u001b[39m\u001b[38;5;124mparking_stream.csv\u001b[39m\u001b[38;5;124m\"\u001b[39m, schema\u001b[38;5;241m=\u001b[39mParkingSchema, mode\u001b[38;5;241m=\u001b[39m\u001b[38;5;124m\"\u001b[39m\u001b[38;5;124mstatic\u001b[39m\u001b[38;5;124m\"\u001b[39m)\n\u001b[0;32m      4\u001b[0m model1 \u001b[38;5;241m=\u001b[39m data\u001b[38;5;241m.\u001b[39mselect(\n\u001b[0;32m      5\u001b[0m     timestamp\u001b[38;5;241m=\u001b[39mdata\u001b[38;5;241m.\u001b[39mtimestamp,\n\u001b[0;32m      6\u001b[0m     price\u001b[38;5;241m=\u001b[39mlinear_price(data\u001b[38;5;241m.\u001b[39moccupancy, data\u001b[38;5;241m.\u001b[39mcapacity)\n\u001b[0;32m      7\u001b[0m )\n\u001b[0;32m      9\u001b[0m model2 \u001b[38;5;241m=\u001b[39m data\u001b[38;5;241m.\u001b[39mselect(\n\u001b[0;32m     10\u001b[0m     timestamp\u001b[38;5;241m=\u001b[39mdata\u001b[38;5;241m.\u001b[39mtimestamp,\n\u001b[0;32m     11\u001b[0m     demand\u001b[38;5;241m=\u001b[39mdemand_score(\n\u001b[1;32m   (...)\u001b[0m\n\u001b[0;32m     16\u001b[0m     price\u001b[38;5;241m=\u001b[39mdemand_price(pw\u001b[38;5;241m.\u001b[39mthis\u001b[38;5;241m.\u001b[39mdemand)\n\u001b[0;32m     17\u001b[0m )\n",
      "File \u001b[1;32m~\\anaconda3\\Lib\\site-packages\\pathway\\__init__.py:61\u001b[0m, in \u001b[0;36m__getattr__\u001b[1;34m(name)\u001b[0m\n\u001b[0;32m     59\u001b[0m _warn(warning)\n\u001b[0;32m     60\u001b[0m error \u001b[38;5;241m=\u001b[39m error \u001b[38;5;241m+\u001b[39m \u001b[38;5;124m\"\u001b[39m\u001b[38;5;130;01m\\n\u001b[39;00m\u001b[38;5;124m\"\u001b[39m \u001b[38;5;241m+\u001b[39m warning\n\u001b[1;32m---> 61\u001b[0m \u001b[38;5;28;01mraise\u001b[39;00m \u001b[38;5;167;01mAttributeError\u001b[39;00m(error)\n",
      "\u001b[1;31mAttributeError\u001b[0m: module 'pathway' has no attribute 'io'\nThis is not the real Pathway package.\nVisit https://pathway.com/developers/ to get Pathway.\nAlready tried that? Visit https://pathway.com/troubleshooting/ to get help.\nNote: your platform is Windows-11-10.0.26100-SP0, your Python is CPython 3.12.7."
     ]
    }
   ],
   "source": [
    "# Streaming the input data\n",
    "data = pw.io.csv.read(\"parking_stream.csv\", schema=ParkingSchema, mode=\"static\")\n",
    "\n",
    "model1 = data.select(\n",
    "    timestamp=data.timestamp,\n",
    "    price=linear_price(data.occupancy, data.capacity)\n",
    ")\n",
    "\n",
    "model2 = data.select(\n",
    "    timestamp=data.timestamp,\n",
    "    demand=demand_score(\n",
    "        data.occupancy, data.capacity, data.queue,\n",
    "        data.traffic, data.special_day, data.vehicle_type\n",
    "    )\n",
    ").with_columns(\n",
    "    price=demand_price(pw.this.demand)\n",
    ")\n",
    "\n",
    "model3 = model2.with_columns(\n",
    "    competitive_price=competitor_price_adjusted(pw.this.price)\n",
    ")"
   ]
  },
  {
   "cell_type": "code",
   "execution_count": 29,
   "metadata": {
    "colab": {
     "base_uri": "https://localhost:8080/"
    },
    "id": "QxcCssYLIUly",
    "outputId": "7cb8fe28-4e60-44bd-b159-ad94fbc4dd4e"
   },
   "outputs": [
    {
     "name": "stderr",
     "output_type": "stream",
     "text": [
      "This is not the real Pathway package.\n",
      "Visit https://pathway.com/developers/ to get Pathway.\n",
      "Already tried that? Visit https://pathway.com/troubleshooting/ to get help.\n",
      "Note: your platform is Windows-11-10.0.26100-SP0, your Python is CPython 3.12.7.\n"
     ]
    },
    {
     "ename": "AttributeError",
     "evalue": "module 'pathway' has no attribute 'io'\nThis is not the real Pathway package.\nVisit https://pathway.com/developers/ to get Pathway.\nAlready tried that? Visit https://pathway.com/troubleshooting/ to get help.\nNote: your platform is Windows-11-10.0.26100-SP0, your Python is CPython 3.12.7.",
     "output_type": "error",
     "traceback": [
      "\u001b[1;31m---------------------------------------------------------------------------\u001b[0m",
      "\u001b[1;31mAttributeError\u001b[0m                            Traceback (most recent call last)",
      "Cell \u001b[1;32mIn[29], line 2\u001b[0m\n\u001b[0;32m      1\u001b[0m \u001b[38;5;66;03m# Write outputs to JSONL files\u001b[39;00m\n\u001b[1;32m----> 2\u001b[0m pw\u001b[38;5;241m.\u001b[39mio\u001b[38;5;241m.\u001b[39mjsonlines\u001b[38;5;241m.\u001b[39mwrite(model1, filename\u001b[38;5;241m=\u001b[39m\u001b[38;5;124m'\u001b[39m\u001b[38;5;124m/content/model1_prices.jsonl\u001b[39m\u001b[38;5;124m'\u001b[39m)\n\u001b[0;32m      3\u001b[0m pw\u001b[38;5;241m.\u001b[39mio\u001b[38;5;241m.\u001b[39mjsonlines\u001b[38;5;241m.\u001b[39mwrite(model2, filename\u001b[38;5;241m=\u001b[39m\u001b[38;5;124m'\u001b[39m\u001b[38;5;124m/content/model2_prices.jsonl\u001b[39m\u001b[38;5;124m'\u001b[39m)\n\u001b[0;32m      4\u001b[0m pw\u001b[38;5;241m.\u001b[39mio\u001b[38;5;241m.\u001b[39mjsonlines\u001b[38;5;241m.\u001b[39mwrite(model3, filename\u001b[38;5;241m=\u001b[39m\u001b[38;5;124m'\u001b[39m\u001b[38;5;124m/content/model3_prices.jsonl\u001b[39m\u001b[38;5;124m'\u001b[39m)\n",
      "File \u001b[1;32m~\\anaconda3\\Lib\\site-packages\\pathway\\__init__.py:61\u001b[0m, in \u001b[0;36m__getattr__\u001b[1;34m(name)\u001b[0m\n\u001b[0;32m     59\u001b[0m _warn(warning)\n\u001b[0;32m     60\u001b[0m error \u001b[38;5;241m=\u001b[39m error \u001b[38;5;241m+\u001b[39m \u001b[38;5;124m\"\u001b[39m\u001b[38;5;130;01m\\n\u001b[39;00m\u001b[38;5;124m\"\u001b[39m \u001b[38;5;241m+\u001b[39m warning\n\u001b[1;32m---> 61\u001b[0m \u001b[38;5;28;01mraise\u001b[39;00m \u001b[38;5;167;01mAttributeError\u001b[39;00m(error)\n",
      "\u001b[1;31mAttributeError\u001b[0m: module 'pathway' has no attribute 'io'\nThis is not the real Pathway package.\nVisit https://pathway.com/developers/ to get Pathway.\nAlready tried that? Visit https://pathway.com/troubleshooting/ to get help.\nNote: your platform is Windows-11-10.0.26100-SP0, your Python is CPython 3.12.7."
     ]
    }
   ],
   "source": [
    "# Write outputs to JSONL files\n",
    "pw.io.jsonlines.write(model1, filename='/content/model1_prices.jsonl')\n",
    "pw.io.jsonlines.write(model2, filename='/content/model2_prices.jsonl')\n",
    "pw.io.jsonlines.write(model3, filename='/content/model3_prices.jsonl')"
   ]
  },
  {
   "cell_type": "code",
   "execution_count": 30,
   "metadata": {
    "id": "NLuzSrFqXeAO"
   },
   "outputs": [
    {
     "name": "stderr",
     "output_type": "stream",
     "text": [
      "This is not the real Pathway package.\n",
      "Visit https://pathway.com/developers/ to get Pathway.\n",
      "Already tried that? Visit https://pathway.com/troubleshooting/ to get help.\n",
      "Note: your platform is Windows-11-10.0.26100-SP0, your Python is CPython 3.12.7.\n"
     ]
    },
    {
     "ename": "AttributeError",
     "evalue": "module 'pathway' has no attribute 'io'\nThis is not the real Pathway package.\nVisit https://pathway.com/developers/ to get Pathway.\nAlready tried that? Visit https://pathway.com/troubleshooting/ to get help.\nNote: your platform is Windows-11-10.0.26100-SP0, your Python is CPython 3.12.7.",
     "output_type": "error",
     "traceback": [
      "\u001b[1;31m---------------------------------------------------------------------------\u001b[0m",
      "\u001b[1;31mAttributeError\u001b[0m                            Traceback (most recent call last)",
      "Cell \u001b[1;32mIn[30], line 2\u001b[0m\n\u001b[0;32m      1\u001b[0m \u001b[38;5;66;03m# New (CSV)\u001b[39;00m\n\u001b[1;32m----> 2\u001b[0m pw\u001b[38;5;241m.\u001b[39mio\u001b[38;5;241m.\u001b[39mcsv\u001b[38;5;241m.\u001b[39mwrite(model1, filename\u001b[38;5;241m=\u001b[39m\u001b[38;5;124m'\u001b[39m\u001b[38;5;124m/content/model1_prices.csv\u001b[39m\u001b[38;5;124m'\u001b[39m)\n\u001b[0;32m      3\u001b[0m pw\u001b[38;5;241m.\u001b[39mio\u001b[38;5;241m.\u001b[39mcsv\u001b[38;5;241m.\u001b[39mwrite(model2, filename\u001b[38;5;241m=\u001b[39m\u001b[38;5;124m'\u001b[39m\u001b[38;5;124m/content/model2_prices.csv\u001b[39m\u001b[38;5;124m'\u001b[39m)\n\u001b[0;32m      4\u001b[0m pw\u001b[38;5;241m.\u001b[39mio\u001b[38;5;241m.\u001b[39mcsv\u001b[38;5;241m.\u001b[39mwrite(model3, filename\u001b[38;5;241m=\u001b[39m\u001b[38;5;124m'\u001b[39m\u001b[38;5;124m/content/model3_prices.csv\u001b[39m\u001b[38;5;124m'\u001b[39m)\n",
      "File \u001b[1;32m~\\anaconda3\\Lib\\site-packages\\pathway\\__init__.py:61\u001b[0m, in \u001b[0;36m__getattr__\u001b[1;34m(name)\u001b[0m\n\u001b[0;32m     59\u001b[0m _warn(warning)\n\u001b[0;32m     60\u001b[0m error \u001b[38;5;241m=\u001b[39m error \u001b[38;5;241m+\u001b[39m \u001b[38;5;124m\"\u001b[39m\u001b[38;5;130;01m\\n\u001b[39;00m\u001b[38;5;124m\"\u001b[39m \u001b[38;5;241m+\u001b[39m warning\n\u001b[1;32m---> 61\u001b[0m \u001b[38;5;28;01mraise\u001b[39;00m \u001b[38;5;167;01mAttributeError\u001b[39;00m(error)\n",
      "\u001b[1;31mAttributeError\u001b[0m: module 'pathway' has no attribute 'io'\nThis is not the real Pathway package.\nVisit https://pathway.com/developers/ to get Pathway.\nAlready tried that? Visit https://pathway.com/troubleshooting/ to get help.\nNote: your platform is Windows-11-10.0.26100-SP0, your Python is CPython 3.12.7."
     ]
    }
   ],
   "source": [
    "# New (CSV)\n",
    "pw.io.csv.write(model1, filename='/content/model1_prices.csv')\n",
    "pw.io.csv.write(model2, filename='/content/model2_prices.csv')\n",
    "pw.io.csv.write(model3, filename='/content/model3_prices.csv')"
   ]
  },
  {
   "cell_type": "code",
   "execution_count": null,
   "metadata": {
    "colab": {
     "base_uri": "https://localhost:8080/",
     "height": 34,
     "referenced_widgets": [
      "e7cb6c8697b447ec922893f63efb0715",
      "8c8a8b59428f49baa3d35273551498bc"
     ]
    },
    "id": "rgDSLGdBJerj",
    "outputId": "453c6366-98e1-4527-dd10-77da7761a76f"
   },
   "outputs": [],
   "source": [
    "# Run the Pathway pipeline\n",
    "pw.run()"
   ]
  },
  {
   "cell_type": "code",
   "execution_count": null,
   "metadata": {
    "id": "4GDNX7y2J0AV"
   },
   "outputs": [],
   "source": []
  },
  {
   "cell_type": "code",
   "execution_count": null,
   "metadata": {
    "id": "UxTpDORiYkYT"
   },
   "outputs": [],
   "source": []
  },
  {
   "cell_type": "code",
   "execution_count": null,
   "metadata": {
    "id": "78y2RYk9YkPF"
   },
   "outputs": [],
   "source": [
    "!pip install bokeh --quiet"
   ]
  },
  {
   "cell_type": "code",
   "execution_count": null,
   "metadata": {
    "id": "4gLIxaDibWto"
   },
   "outputs": [],
   "source": [
    "import pandas as pd\n",
    "from bokeh.plotting import figure, output_notebook, show\n",
    "from bokeh.models import ColumnDataSource, HoverTool\n",
    "from bokeh.layouts import column, layout\n",
    "output_notebook()"
   ]
  },
  {
   "cell_type": "code",
   "execution_count": null,
   "metadata": {
    "id": "cOJF_auwbala"
   },
   "outputs": [],
   "source": [
    "model1 = pd.read_json(\"/content/model1_prices.jsonl\", lines=True)\n",
    "model2 = pd.read_json(\"/content/model2_prices.jsonl\", lines=True)\n",
    "model3 = pd.read_json(\"/content/model3_prices.jsonl\", lines=True)"
   ]
  },
  {
   "cell_type": "code",
   "execution_count": null,
   "metadata": {
    "id": "8GgUo8xIbf38"
   },
   "outputs": [],
   "source": [
    "# Convert timestamp to datetime\n",
    "model1[\"timestamp\"] = pd.to_datetime(model1[\"timestamp\"])\n",
    "model2[\"timestamp\"] = pd.to_datetime(model2[\"timestamp\"])\n",
    "model3[\"timestamp\"] = pd.to_datetime(model3[\"timestamp\"])"
   ]
  },
  {
   "cell_type": "code",
   "execution_count": null,
   "metadata": {
    "id": "M_HgHL4-b7ud"
   },
   "outputs": [],
   "source": [
    "# Merge the models on timestamp\n",
    "merged = model1.merge(model2, on=\"timestamp\", suffixes=(\"_m1\", \"_m2\"))\n",
    "merged = merged.merge(model3, on=\"timestamp\")\n",
    "merged.rename(columns={\"competitive_price\": \"price_m3\"}, inplace=True)\n",
    "merged = merged.reset_index()"
   ]
  },
  {
   "cell_type": "code",
   "execution_count": null,
   "metadata": {
    "id": "pn3BOeYReUoC"
   },
   "outputs": [],
   "source": [
    "#1. Daily Average Price Plot\n",
    "merged[\"date\"] = merged[\"timestamp\"].dt.date\n",
    "daily_avg = merged.groupby(\"date\")[[\"price_m1\", \"price_m2\", \"price_m3\"]].mean().reset_index()\n",
    "source_daily = ColumnDataSource(daily_avg)\n",
    "\n",
    "p1 = figure(title=\"Daily Avg Price: Model 1 vs 2 vs 3\",\n",
    "            x_axis_type='datetime', x_axis_label='Date', y_axis_label='Average Price ($)',\n",
    "            height=350, width=800)\n",
    "\n",
    "p1.line(x='date', y='price_m1', source=source_daily, color='red', legend_label=\"Model 1 (Linear)\")\n",
    "p1.line(x='date', y='price_m2', source=source_daily, color='violet', legend_label=\"Model 2 (Demand-Based)\")\n",
    "p1.line(x='date', y='price_m3', source=source_daily, color='pink', legend_label=\"Model 3 (Competitive)\")\n",
    "\n",
    "p1.add_layout(p1.legend[0], 'right')\n",
    "p1.add_tools(HoverTool(tooltips=[(\"Date\", \"@date\"), (\"M1\", \"@price_m1\"), (\"M2\", \"@price_m2\"), (\"M3\", \"@price_m3\")]))"
   ]
  },
  {
   "cell_type": "code",
   "execution_count": null,
   "metadata": {
    "colab": {
     "base_uri": "https://localhost:8080/"
    },
    "id": "RiIP2KeghL42",
    "outputId": "8f615098-75f9-49e3-e7f2-927aa4dcc096"
   },
   "outputs": [],
   "source": [
    "#2. Plot for a Specific Day\n",
    "# Filter for a specific day\n",
    "single_day = merged[merged[\"timestamp\"].dt.date == pd.to_datetime(\"2016-10-10\").date()]\n",
    "\n",
    "# Ensure 'timestamp' is datetime\n",
    "single_day[\"timestamp\"] = pd.to_datetime(single_day[\"timestamp\"])\n",
    "\n",
    "# Create ColumnDataSource for Bokeh\n",
    "source_single_day = ColumnDataSource(single_day)\n",
    "\n",
    "# Create scatter plot\n",
    "p2 = figure(title=\"Model 1 vs Model 2 vs Model 3 Pricing on 2016-10-10\",\n",
    "                   x_axis_type='datetime', x_axis_label='Time', y_axis_label='Price ($)',\n",
    "                   height=350, width=800)\n",
    "\n",
    "# Scatter points\n",
    "p2.circle(x='timestamp', y='price_m1', source=source_single_day,\n",
    "                 color='blue', size=6, legend_label=\"Model 1 (Linear)\")\n",
    "\n",
    "p2.circle(x='timestamp', y='price_m2', source=source_single_day,\n",
    "                 color='green', size=6, legend_label=\"Model 2 (Demand-Based)\")\n",
    "\n",
    "p2.circle(x='timestamp', y='price_m3', source=source_single_day,\n",
    "                 color='yellow', size=6, legend_label=\"Model 3 (Competetive)\")\n",
    "\n",
    "# Hover tool for both models\n",
    "hover = HoverTool(tooltips=[\n",
    "    (\"Time\", \"@timestamp{%H:%M}\"),\n",
    "    (\"Model 1\", \"@price_m1\"),\n",
    "    (\"Model 2\", \"@price_m2\"),\n",
    "    (\"Model 3\", \"@price_m3\")\n",
    "], formatters={'@timestamp': 'datetime'})\n",
    "\n",
    "p2.add_tools(hover)\n",
    "p2.add_layout(p2.legend[0], 'right')\n",
    "p2.legend.click_policy = \"hide\""
   ]
  },
  {
   "cell_type": "code",
   "execution_count": null,
   "metadata": {
    "colab": {
     "base_uri": "https://localhost:8080/"
    },
    "id": "o-9O6B85hn53",
    "outputId": "3c8447e5-be90-463f-f176-df4bf0d38702"
   },
   "outputs": [],
   "source": [
    "# 3. Hourly Averaged Price Plot\n",
    "merged[\"hour\"] = merged[\"timestamp\"].dt.floor(\"H\")\n",
    "hourly_avg = merged.groupby(\"hour\")[[\"price_m1\", \"price_m2\"]].mean().reset_index()\n",
    "source_hour = ColumnDataSource(hourly_avg)\n",
    "\n",
    "p3 = figure(title=\"Hourly Avg Price: Model 1 vs Model 2\",\n",
    "            x_axis_type='datetime', x_axis_label='Hour', y_axis_label='Avg Price ($)',\n",
    "            height=350, width=800)\n",
    "\n",
    "p3.line(x='hour', y='price_m1', source=source_hour, color='purple', legend_label=\"Model 1 (Linear)\")\n",
    "p3.line(x='hour', y='price_m2', source=source_hour, color='red', legend_label=\"Model 2 (Demand-Based)\")\n",
    "p3.add_tools(HoverTool(tooltips=[(\"Hour\", \"@hour{%F %H:%M}\"), (\"M1\", \"@price_m1\"), (\"M2\", \"@price_m2\")],\n",
    "                       formatters={\"@hour\": \"datetime\"}))\n",
    "p3.add_layout(p3.legend[0], 'right')"
   ]
  },
  {
   "cell_type": "code",
   "execution_count": null,
   "metadata": {
    "colab": {
     "base_uri": "https://localhost:8080/",
     "height": 1000,
     "resources": {
      "http://localhost:8080/static/extensions/panel/bundled/datatabulator/luxon/build/global/luxon.min.js": {
       "data": "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",
       "headers": [
        [
         "content-length",
         "9307"
        ],
        [
         "content-type",
         "text/html"
        ]
       ],
       "ok": false,
       "status": 404,
       "status_text": ""
      },
      "http://localhost:8080/static/extensions/panel/bundled/datatabulator/tabulator-tables@6.3.1/dist/css/tabulator_simple.min.css": {
       "data": "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",
       "headers": [
        [
         "content-length",
         "9307"
        ],
        [
         "content-type",
         "text/html"
        ]
       ],
       "ok": false,
       "status": 404,
       "status_text": ""
      },
      "http://localhost:8080/static/extensions/panel/bundled/datatabulator/tabulator-tables@6.3.1/dist/js/tabulator.min.js": {
       "data": "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",
       "headers": [
        [
         "content-length",
         "9307"
        ],
        [
         "content-type",
         "text/html"
        ]
       ],
       "ok": false,
       "status": 404,
       "status_text": ""
      },
      "http://localhost:8080/static/extensions/panel/bundled/reactiveesm/es-module-shims@%5E1.10.0/dist/es-module-shims.min.js": {
       "data": "PCFET0NUWVBFIEhUTUw+CjxodG1sPgoKPGhlYWQ+CiAgICA8bWV0YSBjaGFyc2V0PSJ1dGYtOCI+CgogICAgPHRpdGxlPkp1cHl0ZXIgTm90ZWJvb2s8L3RpdGxlPgogICAgPGxpbmsgaWQ9ImZhdmljb24iIHJlbD0ic2hvcnRjdXQgaWNvbiIgdHlwZT0iaW1hZ2UveC1pY29uIiBocmVmPSIvc3RhdGljL2Jhc2UvaW1hZ2VzL2Zhdmljb24uaWNvP3Y9NTBhZmE3MjViNWRlOGIwMDAzMDEzOWQwOWIzODYyMDIyNGQ0ZTdkYmE0N2MwN2VmMGU4NmQ0NjQzZjMwYzliZmU2YmI3ZTFhNGExYzU2MWFhMzI4MzQ0ODA5MDlhNGI2ZmU3Y2QxZTE3ZjcxNTkzMzBiNmI1OTE0YmY0NWE4ODAiPgogICAgPG1ldGEgaHR0cC1lcXVpdj0iWC1VQS1Db21wYXRpYmxlIiBjb250ZW50PSJJRT1lZGdlIiAvPgogICAgPGxpbmsgcmVsPSJzdHlsZXNoZWV0IiBocmVmPSIvc3RhdGljL2NvbXBvbmVudHMvanF1ZXJ5LXVpL2Rpc3QvdGhlbWVzL3Ntb290aG5lc3MvanF1ZXJ5LXVpLm1pbi5jc3M/dj1hZWVmOTYyYmU3MDM4NzYxZTUxNzRmOTFlMmRhNzc2YzY0MGY3ODllOTgwMjYyMTE3ODYwNmI3NTk1MDZiMjczZDlhOTdmMTg5YTkyNjJiMTlhYzViNTExZjcwYTY2MmQ4YzVlMmJmMmZiMjU4YWUxMWMzYzJlZTFlMDdjNmFiZCIgdHlwZT0idGV4dC9jc3MiIC8+CiAgICA8bGluayByZWw9InN0eWxlc2hlZXQiIGhyZWY9Ii9zdGF0aWMvY29tcG9uZW50cy9qcXVlcnktdHlwZWFoZWFkL2Rpc3QvanF1ZXJ5LnR5cGVhaGVhZC5taW4uY3NzP3Y9NTBhYmM5ZjA2NThkZWM3NDg4ZTM1MmI3MTk0N2RjMjQ4OWUwODU1M2ExMmEyZmYwZDI5MmNkNTdmZTY1NjI1YjhiNWI1MjE5M2VlNWVlZDAwMzQyMTYyNmRkN2U5ZTUyMDE4ZDgyMmY0NzE5YjdhYjk4YTJjZjE4YWFmNTc1ZmYiIHR5cGU9InRleHQvY3NzIiAvPgogICAgPG1ldGEgbmFtZT0idmlld3BvcnQiIGNvbnRlbnQ9IndpZHRoPWRldmljZS13aWR0aCwgaW5pdGlhbC1zY2FsZT0xLjAiPgogICAgCiAgICAKCiAgICA8bGluayByZWw9InN0eWxlc2hlZXQiIGhyZWY9Ii9zdGF0aWMvc3R5bGUvc3R5bGUubWluLmNzcz92PWFiMjBiZjIzNzM1ZWQ5NTYzMzE4MWJhYTQ3M2ZmNjNiZjI4MWNlYWU0NzA0MDdjNjU2ZTQ4MmE2MThkNzdjOWU5NTFhOGMwYWRhNmYzYjNkMDJkMDU0YTQ4MWZiMzVhYWQ4NTI3ODFkNzJhMmZjNWRkMGJiMTc0ZjBjZjI3MzgxIiB0eXBlPSJ0ZXh0L2NzcyIvPgogICAgCjxzdHlsZSB0eXBlPSJ0ZXh0L2NzcyI+Ci8qIGRpc2FibGUgaW5pdGlhbCBoaWRlICovCmRpdiNoZWFkZXIsIGRpdiNzaXRlIHsKICAgIGRpc3BsYXk6IGJsb2NrOwp9Cjwvc3R5bGU+CgogICAgPGxpbmsgcmVsPSJzdHlsZXNoZWV0IiBocmVmPSIvY3VzdG9tL2N1c3RvbS5jc3MiIHR5cGU9InRleHQvY3NzIiAvPgogICAgPHNjcmlwdCBzcmM9Ii9zdGF0aWMvY29tcG9uZW50cy9lczYtcHJvbWlzZS9wcm9taXNlLm1pbi5qcz92PWJlYTMzNWQ3NDEzNmE2M2FlMWI1MTMwZjVhYzlhNTBjNjI1NmE1ZjQzNWU2ZTA5ZmVmNTk5NDkxYTg0ZDgzNGE4YjBmMDExY2EzZWFhY2EzYjRhYjZhMmRhMmQzZTExOTE1NjdhMmYxNzFlNjBkYTFkMTBlNWI5ZDUyZjg0MTg0IiB0eXBlPSJ0ZXh0L2phdmFzY3JpcHQiIGNoYXJzZXQ9InV0Zi04Ij48L3NjcmlwdD4KICAgIDxzY3JpcHQgc3JjPSIvc3RhdGljL2NvbXBvbmVudHMvcmVhY3QvcmVhY3QucHJvZHVjdGlvbi5taW4uanM/dj05YTBhYWY4NGEzMTZjOGJlZGQ2YzJmZjdkNWI1ZTBhMTNmOGY4NGVjMDI0NDIzNDZjYmEwYjg0MmM2YzgxYTZiZjYxNzZlNjRmMzY3NWMyZWJmMzU3Y2I1YmIwNDhlMGI1MjdiZDM5Mzc3Yzk1NjgxZDIyNDY4ZGEzZDVkZTczNSIgdHlwZT0idGV4dC9qYXZhc2NyaXB0Ij48L3NjcmlwdD4KICAgIDxzY3JpcHQgc3JjPSIvc3RhdGljL2NvbXBvbmVudHMvcmVhY3QvcmVhY3QtZG9tLnByb2R1Y3Rpb24ubWluLmpzP3Y9NmZjNThjMWM0NzM2ODY4ZmY4NGY1N2JkOGI4NWYyYmRiOTg1OTkzYTkzOTI3MThmM2I0YWY0YmZhMTBmYjRlZmJhMmI0ZGRkNjg2NDRiZDJhOGRhZjA2MTlhMzg0NDk0NGM5YzQzZjg1MjgzNjRhMWFhNmZjMDFlYzFiOGFlODQiIHR5cGU9InRleHQvamF2YXNjcmlwdCI+PC9zY3JpcHQ+CiAgICA8c2NyaXB0IHNyYz0iL3N0YXRpYy9jb21wb25lbnRzL2NyZWF0ZS1yZWFjdC1jbGFzcy9pbmRleC5qcz92PTg5NGFkNTcyNDZlNjgyYjRjZmJlN2NkNWU0MDhkY2Q2YjM4ZDA2YWY0ZGU0ZjM0MjU5OTFlMjY3NmZkYzJlZjE3MzJjYmQxOTkwMzEwNDE5ODg3OGFlNzdkZTEyYTE5OTZkZTNlN2RhM2E0NjdmYjIyNmJkZGE4ZjQ2MThmYWVjIiB0eXBlPSJ0ZXh0L2phdmFzY3JpcHQiPjwvc2NyaXB0PgogICAgPHNjcmlwdCBzcmM9Ii9zdGF0aWMvY29tcG9uZW50cy9yZXF1aXJlanMvcmVxdWlyZS5qcz92PWQzN2I0OGJiMjEzN2ZhYTBhYjk4MTU3ZTI0MGMwODRkZDViMWI1ZTc0OTExNzIzYWExZDFmMDRjOTI4YzJhMDNkZWRmOTIyZDA0OWU0ODE1ZjdlNWEzNjlmYWEyZTZiNmExMDAwYWFlOTU4Yjc5NTNiNWNjNjA0MTExNTRmNTkzIiB0eXBlPSJ0ZXh0L2phdmFzY3JpcHQiIGNoYXJzZXQ9InV0Zi04Ij48L3NjcmlwdD4KICAgIDxzY3JpcHQ+CiAgICAgIHJlcXVpcmUuY29uZmlnKHsKICAgICAgICAgIAogICAgICAgICAgdXJsQXJnczogInY9MjAyNTA3MDgyMDA1MzAiLAogICAgICAgICAgCiAgICAgICAgICBiYXNlVXJsOiAnL3N0YXRpYy8nLAogICAgICAgICAgcGF0aHM6IHsKICAgICAgICAgICAgJ2F1dGgvanMvbWFpbic6ICdhdXRoL2pzL21haW4ubWluJywKICAgICAgICAgICAgY3VzdG9tIDogJy9jdXN0b20nLAogICAgICAgICAgICBuYmV4dGVuc2lvbnMgOiAnL25iZXh0ZW5zaW9ucycsCiAgICAgICAgICAgIGtlcm5lbHNwZWNzIDogJy9rZXJuZWxzcGVjcycsCiAgICAgICAgICAgIHVuZGVyc2NvcmUgOiAnY29tcG9uZW50cy91bmRlcnNjb3JlL3VuZGVyc2NvcmUtbWluJywKICAgICAgICAgICAgYmFja2JvbmUgOiAnY29tcG9uZW50cy9iYWNrYm9uZS9iYWNrYm9uZS1taW4nLAogICAgICAgICAgICBqZWQ6ICdjb21wb25lbnRzL2plZC9qZWQnLAogICAgICAgICAgICBqcXVlcnk6ICdjb21wb25lbnRzL2pxdWVyeS9qcXVlcnkubWluJywKICAgICAgICAgICAganNvbjogJ2NvbXBvbmVudHMvcmVxdWlyZWpzLXBsdWdpbnMvc3JjL2pzb24nLAogICAgICAgICAgICB0ZXh0OiAnY29tcG9uZW50cy9yZXF1aXJlanMtdGV4dC90ZXh0JywKICAgICAgICAgICAgYm9vdHN0cmFwOiAnY29tcG9uZW50cy9ib290c3RyYXAvZGlzdC9qcy9ib290c3RyYXAubWluJywKICAgICAgICAgICAgYm9vdHN0cmFwdG91cjogJ2NvbXBvbmVudHMvYm9vdHN0cmFwLXRvdXIvYnVpbGQvanMvYm9vdHN0cmFwLXRvdXIubWluJywKICAgICAgICAgICAgJ2pxdWVyeS11aSc6ICdjb21wb25lbnRzL2pxdWVyeS11aS9kaXN0L2pxdWVyeS11aS5taW4nLAogICAgICAgICAgICBtb21lbnQ6ICdjb21wb25lbnRzL21vbWVudC9taW4vbW9tZW50LXdpdGgtbG9jYWxlcycsCiAgICAgICAgICAgIGNvZGVtaXJyb3I6ICdjb21wb25lbnRzL2NvZGVtaXJyb3InLAogICAgICAgICAgICB0ZXJtanM6ICdjb21wb25lbnRzL3h0ZXJtLmpzL3h0ZXJtJywKICAgICAgICAgICAgdHlwZWFoZWFkOiAnY29tcG9uZW50cy9qcXVlcnktdHlwZWFoZWFkL2Rpc3QvanF1ZXJ5LnR5cGVhaGVhZC5taW4nLAogICAgICAgICAgfSwKICAgICAgICAgIG1hcDogeyAvLyBmb3IgYmFja3dhcmQgY29tcGF0aWJpbGl0eQogICAgICAgICAgICAgICIqIjogewogICAgICAgICAgICAgICAgICAianF1ZXJ5dWkiOiAianF1ZXJ5LXVpIiwKICAgICAgICAgICAgICB9CiAgICAgICAgICB9LAogICAgICAgICAgc2hpbTogewogICAgICAgICAgICB0eXBlYWhlYWQ6IHsKICAgICAgICAgICAgICBkZXBzOiBbImpxdWVyeSJdLAogICAgICAgICAgICAgIGV4cG9ydHM6ICJ0eXBlYWhlYWQiCiAgICAgICAgICAgIH0sCiAgICAgICAgICAgIHVuZGVyc2NvcmU6IHsKICAgICAgICAgICAgICBleHBvcnRzOiAnXycKICAgICAgICAgICAgfSwKICAgICAgICAgICAgYmFja2JvbmU6IHsKICAgICAgICAgICAgICBkZXBzOiBbInVuZGVyc2NvcmUiLCAianF1ZXJ5Il0sCiAgICAgICAgICAgICAgZXhwb3J0czogIkJhY2tib25lIgogICAgICAgICAgICB9LAogICAgICAgICAgICBib290c3RyYXA6IHsKICAgICAgICAgICAgICBkZXBzOiBbImpxdWVyeSJdLAogICAgICAgICAgICAgIGV4cG9ydHM6ICJib290c3RyYXAiCiAgICAgICAgICAgIH0sCiAgICAgICAgICAgIGJvb3RzdHJhcHRvdXI6IHsKICAgICAgICAgICAgICBkZXBzOiBbImJvb3RzdHJhcCJdLAogICAgICAgICAgICAgIGV4cG9ydHM6ICJUb3VyIgogICAgICAgICAgICB9LAogICAgICAgICAgICAianF1ZXJ5LXVpIjogewogICAgICAgICAgICAgIGRlcHM6IFsianF1ZXJ5Il0sCiAgICAgICAgICAgICAgZXhwb3J0czogIiQiCiAgICAgICAgICAgIH0KICAgICAgICAgIH0sCiAgICAgICAgICB3YWl0U2Vjb25kczogMzAsCiAgICAgIH0pOwoKICAgICAgcmVxdWlyZS5jb25maWcoewogICAgICAgICAgbWFwOiB7CiAgICAgICAgICAgICAgJyonOnsKICAgICAgICAgICAgICAgICdjb250ZW50cyc6ICdzZXJ2aWNlcy9jb250ZW50cycsCiAgICAgICAgICAgICAgfQogICAgICAgICAgfQogICAgICB9KTsKCiAgICAgIC8vIGVycm9yLWNhdGNoaW5nIGN1c3RvbS5qcyBzaGltLgogICAgICBkZWZpbmUoImN1c3RvbSIsIGZ1bmN0aW9uIChyZXF1aXJlLCBleHBvcnRzLCBtb2R1bGUpIHsKICAgICAgICAgIHRyeSB7CiAgICAgICAgICAgICAgdmFyIGN1c3RvbSA9IHJlcXVpcmUoJ2N1c3RvbS9jdXN0b20nKTsKICAgICAgICAgICAgICBjb25zb2xlLmRlYnVnKCdsb2FkZWQgY3VzdG9tLmpzJyk7CiAgICAgICAgICAgICAgcmV0dXJuIGN1c3RvbTsKICAgICAgICAgIH0gY2F0Y2ggKGUpIHsKICAgICAgICAgICAgICBjb25zb2xlLmVycm9yKCJlcnJvciBsb2FkaW5nIGN1c3RvbS5qcyIsIGUpOwogICAgICAgICAgICAgIHJldHVybiB7fTsKICAgICAgICAgIH0KICAgICAgfSkKCiAgICAgIC8vIGVycm9yLWNhdGNoaW5nIGN1c3RvbS1wcmVsb2FkLmpzIHNoaW0uCiAgICAgIGRlZmluZSgiY3VzdG9tLXByZWxvYWQiLCBmdW5jdGlvbiAocmVxdWlyZSwgZXhwb3J0cywgbW9kdWxlKSB7CiAgICAgICAgICB0cnkgewogICAgICAgICAgICAgIHZhciBjdXN0b20gPSByZXF1aXJlKCdjdXN0b20vY3VzdG9tLXByZWxvYWQnKTsKICAgICAgICAgICAgICBjb25zb2xlLmRlYnVnKCdsb2FkZWQgY3VzdG9tLXByZWxvYWQuanMnKTsKICAgICAgICAgICAgICByZXR1cm4gY3VzdG9tOwogICAgICAgICAgfSBjYXRjaCAoZSkgewogICAgICAgICAgICAgIGNvbnNvbGUuZXJyb3IoImVycm9yIGxvYWRpbmcgY3VzdG9tLXByZWxvYWQuanMiLCBlKTsKICAgICAgICAgICAgICByZXR1cm4ge307CiAgICAgICAgICB9CiAgICAgIH0pCgogICAgZG9jdW1lbnQubmJqc190cmFuc2xhdGlvbnMgPSB7ImRvbWFpbiI6ICJuYmpzIiwgImxvY2FsZV9kYXRhIjogeyJuYmpzIjogeyIiOiB7ImRvbWFpbiI6ICJuYmpzIn19fX07CiAgICBkb2N1bWVudC5kb2N1bWVudEVsZW1lbnQubGFuZyA9IG5hdmlnYXRvci5sYW5ndWFnZS50b0xvd2VyQ2FzZSgpOwogICAgPC9zY3JpcHQ+CgogICAgCiAgICAKCjwvaGVhZD4KCjxib2R5IGNsYXNzPSIiCiAKICAKIApkaXI9Imx0ciI+Cgo8bm9zY3JpcHQ+CiAgICA8ZGl2IGlkPSdub3NjcmlwdCc+CiAgICAgIEp1cHl0ZXIgTm90ZWJvb2sgcmVxdWlyZXMgSmF2YVNjcmlwdC48YnI+CiAgICAgIFBsZWFzZSBlbmFibGUgaXQgdG8gcHJvY2VlZC4gCiAgPC9kaXY+Cjwvbm9zY3JpcHQ+Cgo8ZGl2IGlkPSJoZWFkZXIiIHJvbGU9Im5hdmlnYXRpb24iIGFyaWEtbGFiZWw9IlRvcCBNZW51Ij4KICA8ZGl2ICBpZD0ibmV3c0lkIiBzdHlsZT0iZGlzcGxheTogbm9uZSI+CiAgICAKICAgIDxkaXYgY2xhc3M9ImFsZXJ0IGFsZXJ0LWluZm8iIHJvbGU9ImFsZXJ0Ij4KICAgICAgPGRpdiBzdHlsZT0iZGlzcGxheTogZmxleCI+CiAgICAgICAgPGRpdj4KICAgICAgICAgIDxzcGFuIGNsYXNzPSJsYWJlbCBsYWJlbC13YXJuaW5nIj5VUERBVEU8L3NwYW4+CiAgICAgICAgICBSZWFkIDxhIGhyZWY9Imh0dHBzOi8vanVweXRlci1ub3RlYm9vay5yZWFkdGhlZG9jcy5pby9lbi9sYXRlc3QvbWlncmF0ZV90b19ub3RlYm9vazcuaHRtbCIgc3R5bGU9InRleHQtZGVjb3JhdGlvbjogdW5kZXJsaW5lOyIgdGFyZ2V0PSJfYmxhbmsiPnRoZSBtaWdyYXRpb24gcGxhbjwvYT4gdG8gTm90ZWJvb2sgNyB0byBsZWFybiBhYm91dCB0aGUgbmV3IGZlYXR1cmVzIGFuZCB0aGUgYWN0aW9ucyB0byB0YWtlIGlmIHlvdSBhcmUgdXNpbmcgZXh0ZW5zaW9ucwogICAgICAgICAgLQogICAgICAgICAgUGxlYXNlIG5vdGUgdGhhdCB1cGRhdGluZyB0byBOb3RlYm9vayA3IG1pZ2h0IGJyZWFrIHNvbWUgb2YgeW91ciBleHRlbnNpb25zLgogICAgICAgIDwvZGl2PgogICAgICAgIDxkaXYgc3R5bGU9Im1hcmdpbi1sZWZ0OiBhdXRvOyI+CiAgICAgICAgICA8YSBocmVmPSIiIG9uY2xpY2s9ImFsZXJ0KCdUaGlzIG1lc3NhZ2Ugd2lsbCBub3QgYmUgc2hvd24gYW55bW9yZS4nKTsgcmV0dXJuIGZhbHNlOyI+CiAgICAgICAgICAgIDxidXR0b24gdHlwZT0iYnV0dG9uIiBjbGFzcz0iYnRuIGJ0bi1kZWZhdWx0IGJ0bi14cyIgaWQ9ImRvbnRTaG93SWQiPgogICAgICAgICAgICAgIERvbid0IHNob3cgYW55bW9yZQogICAgICAgICAgICA8L2J1dHRvbj4KICAgICAgICAgIDwvYT4KICAgICAgICA8L2Rpdj4KICAgICAgPC9kaXY+CiAgICA8L2Rpdj4KICAgIAogIDwvZGl2PgogIDxkaXYgaWQ9ImhlYWRlci1jb250YWluZXIiIGNsYXNzPSJjb250YWluZXIiPgogIDxkaXYgaWQ9ImlweXRob25fbm90ZWJvb2siIGNsYXNzPSJuYXYgbmF2YmFyLWJyYW5kIj48YSBocmVmPSIvdHJlZSIgdGl0bGU9J2Rhc2hib2FyZCc+CiAgICAgIDxpbWcgc3JjPScvc3RhdGljL2Jhc2UvaW1hZ2VzL2xvZ28ucG5nP3Y9YTJhMTc2ZWUzY2VlMjUxZmZkZGY1ZmEyMWZlOGU0MzcyN2E5ZTVmODdhMDZmOWM5MWFkN2I3NzZkOWU5ZDNkNWUwMTU5YzE2Y2MxODhhMzk2NWUwMDM3NWZiNGJjMzM2YzE2MDY3YzY4OGY1MDQwYzBjMmQ0YmZkYjg1MmE5ZTQnIGFsdD0nSnVweXRlciBOb3RlYm9vaycvPgogIDwvYT48L2Rpdj4KCiAgCiAgCiAgCiAgCiAgCiAgCgoKICAKICAKICA8L2Rpdj4KICA8ZGl2IGNsYXNzPSJoZWFkZXItYmFyIj48L2Rpdj4KCiAgCiAgCjwvZGl2PgoKPGRpdiBpZD0ic2l0ZSI+CgoKPGRpdiBjbGFzcz0iZXJyb3IiPgogICAgCiAgICA8aDE+NDA0IDogTm90IEZvdW5kPC9oMT4KICAgIAogICAgCjxwPllvdSBhcmUgcmVxdWVzdGluZyBhIHBhZ2UgdGhhdCBkb2VzIG5vdCBleGlzdCE8L3A+Cgo8L2Rpdj4KCgo8L2Rpdj4KCgoKCgoKCjxzY3JpcHQgdHlwZT0ndGV4dC9qYXZhc2NyaXB0Jz4KcmVxdWlyZShbJ2pxdWVyeSddLCBmdW5jdGlvbigkKSB7CiAgLy8gc2Nyb2xsIGxvbmcgdHJhY2ViYWNrcyB0byB0aGUgYm90dG9tCiAgdmFyIHRiID0gJCgiLnRyYWNlYmFjayIpWzBdOwogIHRiLnNjcm9sbFRvcCA9IHRiLnNjcm9sbEhlaWdodDsKfSk7Cjwvc2NyaXB0PgoKCjxzY3JpcHQgdHlwZT0ndGV4dC9qYXZhc2NyaXB0Jz4KICBmdW5jdGlvbiBfcmVtb3ZlX3Rva2VuX2Zyb21fdXJsKCkgewogICAgaWYgKHdpbmRvdy5sb2NhdGlvbi5zZWFyY2gubGVuZ3RoIDw9IDEpIHsKICAgICAgcmV0dXJuOwogICAgfQogICAgdmFyIHNlYXJjaF9wYXJhbWV0ZXJzID0gd2luZG93LmxvY2F0aW9uLnNlYXJjaC5zbGljZSgxKS5zcGxpdCgnJicpOwogICAgZm9yICh2YXIgaSA9IDA7IGkgPCBzZWFyY2hfcGFyYW1ldGVycy5sZW5ndGg7IGkrKykgewogICAgICBpZiAoc2VhcmNoX3BhcmFtZXRlcnNbaV0uc3BsaXQoJz0nKVswXSA9PT0gJ3Rva2VuJykgewogICAgICAgIC8vIHJlbW90ZSB0b2tlbiBmcm9tIHNlYXJjaCBwYXJhbWV0ZXJzCiAgICAgICAgc2VhcmNoX3BhcmFtZXRlcnMuc3BsaWNlKGksIDEpOwogICAgICAgIHZhciBuZXdfc2VhcmNoID0gJyc7CiAgICAgICAgaWYgKHNlYXJjaF9wYXJhbWV0ZXJzLmxlbmd0aCkgewogICAgICAgICAgbmV3X3NlYXJjaCA9ICc/JyArIHNlYXJjaF9wYXJhbWV0ZXJzLmpvaW4oJyYnKTsKICAgICAgICB9CiAgICAgICAgdmFyIG5ld191cmwgPSB3aW5kb3cubG9jYXRpb24ub3JpZ2luICsgCiAgICAgICAgICAgICAgICAgICAgICB3aW5kb3cubG9jYXRpb24ucGF0aG5hbWUgKyAKICAgICAgICAgICAgICAgICAgICAgIG5ld19zZWFyY2ggKyAKICAgICAgICAgICAgICAgICAgICAgIHdpbmRvdy5sb2NhdGlvbi5oYXNoOwogICAgICAgIHdpbmRvdy5oaXN0b3J5LnJlcGxhY2VTdGF0ZSh7fSwgIiIsIG5ld191cmwpOwogICAgICAgIHJldHVybjsKICAgICAgfQogICAgfQogIH0KICBfcmVtb3ZlX3Rva2VuX2Zyb21fdXJsKCk7CiAgc3lzX2luZm8gPSB7Im5vdGVib29rX3ZlcnNpb24iOiAiNi41LjciLCAibm90ZWJvb2tfcGF0aCI6ICIvdXNyL2xvY2FsL2xpYi9weXRob24zLjExL2Rpc3QtcGFja2FnZXMvbm90ZWJvb2siLCAiY29tbWl0X3NvdXJjZSI6ICIiLCAiY29tbWl0X2hhc2giOiAiIiwgInN5c192ZXJzaW9uIjogIjMuMTEuMTMgKG1haW4sIEp1biAgNCAyMDI1LCAwODo1NzoyOSkgW0dDQyAxMS40LjBdIiwgInN5c19leGVjdXRhYmxlIjogIi91c3IvYmluL3B5dGhvbjMiLCAic3lzX3BsYXRmb3JtIjogImxpbnV4IiwgInBsYXRmb3JtIjogIkxpbnV4LTYuMS4xMjMrLXg4Nl82NC13aXRoLWdsaWJjMi4zNSIsICJvc19uYW1lIjogInBvc2l4IiwgImRlZmF1bHRfZW5jb2RpbmciOiAidXRmLTgifTsKICBkb2N1bWVudC5hZGRFdmVudExpc3RlbmVyKCdET01Db250ZW50TG9hZGVkJywgZnVuY3Rpb24gKCkgewogICAgY29uc3QgbmV3c0lkID0gZG9jdW1lbnQucXVlcnlTZWxlY3RvcignI25ld3NJZCcpOwogICAgY29uc3QgZG9udFNob3dJZCA9IGRvY3VtZW50LnF1ZXJ5U2VsZWN0b3IoJyNkb250U2hvd0lkJyk7CiAgICBjb25zdCBzaG93Tm90ZWJvb2tOZXdzID0gbG9jYWxTdG9yYWdlLmdldEl0ZW0oJ3Nob3dOb3RlYm9va05ld3MnKTsKICAgIGRvbnRTaG93SWQuYWRkRXZlbnRMaXN0ZW5lcignY2xpY2snLCAoKSA9PiB7CiAgICAgIGxvY2FsU3RvcmFnZS5zZXRJdGVtKCdzaG93Tm90ZWJvb2tOZXdzJywgZmFsc2UpOwogICAgICBuZXdzSWQuc3R5bGUuZGlzcGxheSA9ICdub25lJzsKICAgIH0pOwogICAgaWYgKCFzaG93Tm90ZWJvb2tOZXdzKSBuZXdzSWQuc3R5bGUuZGlzcGxheSA9ICdpbmxpbmUnOwogIH0pOwo8L3NjcmlwdD4KPC9ib2R5PgoKPC9odG1sPg==",
       "headers": [
        [
         "content-length",
         "9307"
        ],
        [
         "content-type",
         "text/html"
        ]
       ],
       "ok": false,
       "status": 404,
       "status_text": ""
      }
     }
    },
    "id": "eaNjt-unhy31",
    "outputId": "ab7e45a4-a530-4e51-aaff-30cd4f4fa380"
   },
   "outputs": [],
   "source": [
    "show(column(p1, p2, p3))"
   ]
  },
  {
   "cell_type": "code",
   "execution_count": null,
   "metadata": {
    "id": "VGNYKtxcwqRc"
   },
   "outputs": [],
   "source": []
  }
 ],
 "metadata": {
  "colab": {
   "provenance": []
  },
  "kernelspec": {
   "display_name": "Python [conda env:base] *",
   "language": "python",
   "name": "conda-base-py"
  },
  "language_info": {
   "codemirror_mode": {
    "name": "ipython",
    "version": 3
   },
   "file_extension": ".py",
   "mimetype": "text/x-python",
   "name": "python",
   "nbconvert_exporter": "python",
   "pygments_lexer": "ipython3",
   "version": "3.12.7"
  },
  "widgets": {
   "application/vnd.jupyter.widget-state+json": {
    "8c8a8b59428f49baa3d35273551498bc": {
     "model_module": "@jupyter-widgets/base",
     "model_module_version": "2.0.0",
     "model_name": "LayoutModel",
     "state": {
      "_model_module": "@jupyter-widgets/base",
      "_model_module_version": "2.0.0",
      "_model_name": "LayoutModel",
      "_view_count": null,
      "_view_module": "@jupyter-widgets/base",
      "_view_module_version": "2.0.0",
      "_view_name": "LayoutView",
      "align_content": null,
      "align_items": null,
      "align_self": null,
      "border_bottom": null,
      "border_left": null,
      "border_right": null,
      "border_top": null,
      "bottom": null,
      "display": null,
      "flex": null,
      "flex_flow": null,
      "grid_area": null,
      "grid_auto_columns": null,
      "grid_auto_flow": null,
      "grid_auto_rows": null,
      "grid_column": null,
      "grid_gap": null,
      "grid_row": null,
      "grid_template_areas": null,
      "grid_template_columns": null,
      "grid_template_rows": null,
      "height": null,
      "justify_content": null,
      "justify_items": null,
      "left": null,
      "margin": null,
      "max_height": null,
      "max_width": null,
      "min_height": null,
      "min_width": null,
      "object_fit": null,
      "object_position": null,
      "order": null,
      "overflow": null,
      "padding": null,
      "right": null,
      "top": null,
      "visibility": null,
      "width": null
     }
    },
    "e7cb6c8697b447ec922893f63efb0715": {
     "model_module": "@jupyter-widgets/output",
     "model_module_version": "1.0.0",
     "model_name": "OutputModel",
     "state": {
      "_dom_classes": [],
      "_model_module": "@jupyter-widgets/output",
      "_model_module_version": "1.0.0",
      "_model_name": "OutputModel",
      "_view_count": null,
      "_view_module": "@jupyter-widgets/output",
      "_view_module_version": "1.0.0",
      "_view_name": "OutputView",
      "layout": "IPY_MODEL_8c8a8b59428f49baa3d35273551498bc",
      "msg_id": "",
      "outputs": [
       {
        "data": {
         "text/html": "<pre style=\"white-space:pre;overflow-x:auto;line-height:normal;font-family:Menlo,'DejaVu Sans Mono',consolas,'Courier New',monospace\">                                            PATHWAY PROGRESS DASHBOARD                                             \n                                                                                                                   \n   <span style=\"font-weight: bold\">             </span> <span style=\"font-weight: bold\">        no. </span> <span style=\"font-weight: bold\">             </span> <span style=\"font-weight: bold\">            </span>  <span style=\"font-weight: bold\">          </span> <span style=\"font-weight: bold\">  latency </span> <span style=\"font-weight: bold\">          </span> <span style=\"font-weight: bold\">          </span> <span style=\"font-weight: bold\">          </span>   \n   <span style=\"font-weight: bold\">             </span> <span style=\"font-weight: bold\">   messages </span> <span style=\"font-weight: bold\">             </span> <span style=\"font-weight: bold\">            </span>  <span style=\"font-weight: bold\">          </span> <span style=\"font-weight: bold\">  to wall </span> <span style=\"font-weight: bold\">   lag to </span> <span style=\"font-weight: bold\">          </span> <span style=\"font-weight: bold\">          </span>   \n   <span style=\"font-weight: bold\">             </span> <span style=\"font-weight: bold\">     in the </span> <span style=\"font-weight: bold\">             </span> <span style=\"font-weight: bold\">            </span>  <span style=\"font-weight: bold\">          </span> <span style=\"font-weight: bold\">    clock </span> <span style=\"font-weight: bold\">    input </span> <span style=\"font-weight: bold\">    total </span> <span style=\"font-weight: bold\">  current </span>   \n   <span style=\"font-weight: bold\">             </span> <span style=\"font-weight: bold\">       last </span> <span style=\"font-weight: bold\"> in the last </span> <span style=\"font-weight: bold\">      since </span>  <span style=\"font-weight: bold\"> operator </span> <span style=\"font-weight: bold\">     [ms] </span> <span style=\"font-weight: bold\">     [ms] </span> <span style=\"font-weight: bold\">     rows </span> <span style=\"font-weight: bold\">     rows </span>   \n   <span style=\"font-weight: bold\"> connector   </span> <span style=\"font-weight: bold\">  minibatch </span> <span style=\"font-weight: bold\">      minute </span> <span style=\"font-weight: bold\">      start </span>  ──────────────────────────────────────────────────────   \n   ─────────────────────────────────────────────────────   input      finished                                     \n    FileSystem…     finished         18368        18368    output          434       None                          \n                                                                                                                   \n                                                         <span style=\"color: #7f7f7f; text-decoration-color: #7f7f7f; font-style: italic\">   Above you can see the latency of input and output    </span>  \n                                                         <span style=\"color: #7f7f7f; text-decoration-color: #7f7f7f; font-style: italic\">  operators. The latency is measured as the difference  </span>  \n                                                         <span style=\"color: #7f7f7f; text-decoration-color: #7f7f7f; font-style: italic\"> between the time when the operator processed the data  </span>  \n                                                         <span style=\"color: #7f7f7f; text-decoration-color: #7f7f7f; font-style: italic\">      and the time when pathway acquired the data.      </span>  \n                                                                                                                   \n                                                                                                                   \n                                                                                                                   \n                                                                                                                   \n                                                                                                                   \n                                                                                                                   \n                                                                                                                   \n                                                                                                                   \n                                                                                                                   \n                                                                                                                   \n                                                                                                                   \n                                                                                                                   \n                                                                                                                   \n                                                                                                                   \n                                                                                                                   \n                                                                                                                   \n                                                                                                                   \n                                                                                                                   \n                                                                                                                   \n                                                                                                                   \n                                                                                                                   \n                                                                                                                   \n                                                                                                                   \n                                                                                                                   \n                                                                                                                   \n                                                                                                                   \n                                                                                                                   \n                                                                                                                   \n                                                                                                                   \n                                                                                                                   \n                                                                                                                   \n                                                                                                                   \n                                                                                                                   \n                                                                                                                   \n                                                                                                                   \n                                                                                                                   \n                                                       LOGS                                                        \n  <span style=\"color: #7fbfbf; text-decoration-color: #7fbfbf\">[07/08/25 20:09:47] </span><span style=\"color: #808000; text-decoration-color: #808000\">WARNING </span> <span style=\"color: #800080; text-decoration-color: #800080; font-weight: bold\">FileSystem</span><span style=\"font-weight: bold\">(</span>parking_stream.csv<span style=\"font-weight: bold\">)</span>: Closing the data source                             \n                                                                                                                   \n                                                                                                                   \n                                                                                                                   \n                                                                                                                   \n                                                                                                                   \n                                                                                                                   \n                                                                                                                   \n                                                                                                                   \n                                                                                                                   \n                                                                                                                   \n                                                                                                                   \n                                                                                                                   \n                                                                                                                   \n                                                                                                                   \n                                                                                                                   \n                                                                                                                   \n                                                                                                                   \n                                                                                                                   \n                                                                                                                   \n                                                                                                                   \n                                                                                                                   \n                                                                                                                   \n                                                                                                                   \n                                                                                                                   \n                                                                                                                   \n                                                                                                                   \n                                                                                                                   \n                                                                                                                   \n                                                                                                                   \n                                                                                                                   \n                                                                                                                   \n                                                                                                                   \n                                                                                                                   \n                                                                                                                   \n                                                                                                                   \n                                                                                                                   \n                                                                                                                   \n                                                                                                                   \n                                                                                                                   \n                                                                                                                   \n                                                                                                                   \n                                                                                                                   \n                                                                                                                   \n                                                                                                                   \n                                                                                                                   \n                                                                                                                   \n                                                                                                                   \n                                                                                                                   \n</pre>\n",
         "text/plain": "                                            PATHWAY PROGRESS DASHBOARD                                             \n                                                                                                                   \n   \u001b[1m             \u001b[0m \u001b[1m \u001b[0m\u001b[1m       no.\u001b[0m\u001b[1m \u001b[0m \u001b[1m             \u001b[0m \u001b[1m            \u001b[0m  \u001b[1m          \u001b[0m \u001b[1m \u001b[0m\u001b[1m latency\u001b[0m\u001b[1m \u001b[0m \u001b[1m          \u001b[0m \u001b[1m          \u001b[0m \u001b[1m          \u001b[0m   \n   \u001b[1m             \u001b[0m \u001b[1m \u001b[0m\u001b[1m  messages\u001b[0m\u001b[1m \u001b[0m \u001b[1m             \u001b[0m \u001b[1m            \u001b[0m  \u001b[1m          \u001b[0m \u001b[1m \u001b[0m\u001b[1m to wall\u001b[0m\u001b[1m \u001b[0m \u001b[1m \u001b[0m\u001b[1m  lag to\u001b[0m\u001b[1m \u001b[0m \u001b[1m          \u001b[0m \u001b[1m          \u001b[0m   \n   \u001b[1m             \u001b[0m \u001b[1m \u001b[0m\u001b[1m    in the\u001b[0m\u001b[1m \u001b[0m \u001b[1m             \u001b[0m \u001b[1m            \u001b[0m  \u001b[1m          \u001b[0m \u001b[1m \u001b[0m\u001b[1m   clock\u001b[0m\u001b[1m \u001b[0m \u001b[1m \u001b[0m\u001b[1m   input\u001b[0m\u001b[1m \u001b[0m \u001b[1m \u001b[0m\u001b[1m   total\u001b[0m\u001b[1m \u001b[0m \u001b[1m \u001b[0m\u001b[1m current\u001b[0m\u001b[1m \u001b[0m   \n   \u001b[1m             \u001b[0m \u001b[1m \u001b[0m\u001b[1m      last\u001b[0m\u001b[1m \u001b[0m \u001b[1m \u001b[0m\u001b[1min the last\u001b[0m\u001b[1m \u001b[0m \u001b[1m \u001b[0m\u001b[1m     since\u001b[0m\u001b[1m \u001b[0m  \u001b[1m \u001b[0m\u001b[1moperator\u001b[0m\u001b[1m \u001b[0m \u001b[1m \u001b[0m\u001b[1m    [ms]\u001b[0m\u001b[1m \u001b[0m \u001b[1m \u001b[0m\u001b[1m    [ms]\u001b[0m\u001b[1m \u001b[0m \u001b[1m \u001b[0m\u001b[1m    rows\u001b[0m\u001b[1m \u001b[0m \u001b[1m \u001b[0m\u001b[1m    rows\u001b[0m\u001b[1m \u001b[0m   \n   \u001b[1m \u001b[0m\u001b[1mconnector  \u001b[0m\u001b[1m \u001b[0m \u001b[1m \u001b[0m\u001b[1m minibatch\u001b[0m\u001b[1m \u001b[0m \u001b[1m \u001b[0m\u001b[1m     minute\u001b[0m\u001b[1m \u001b[0m \u001b[1m \u001b[0m\u001b[1m     start\u001b[0m\u001b[1m \u001b[0m  ──────────────────────────────────────────────────────   \n   ─────────────────────────────────────────────────────   input      finished                                     \n    FileSystem…     finished         18368        18368    output          434       None                          \n                                                                                                                   \n                                                         \u001b[2;3m   Above you can see the latency of input and output    \u001b[0m  \n                                                         \u001b[2;3m  operators. The latency is measured as the difference  \u001b[0m  \n                                                         \u001b[2;3m between the time when the operator processed the data  \u001b[0m  \n                                                         \u001b[2;3m      and the time when pathway acquired the data.      \u001b[0m  \n                                                                                                                   \n                                                                                                                   \n                                                                                                                   \n                                                                                                                   \n                                                                                                                   \n                                                                                                                   \n                                                                                                                   \n                                                                                                                   \n                                                                                                                   \n                                                                                                                   \n                                                                                                                   \n                                                                                                                   \n                                                                                                                   \n                                                                                                                   \n                                                                                                                   \n                                                                                                                   \n                                                                                                                   \n                                                                                                                   \n                                                                                                                   \n                                                                                                                   \n                                                                                                                   \n                                                                                                                   \n                                                                                                                   \n                                                                                                                   \n                                                                                                                   \n                                                                                                                   \n                                                                                                                   \n                                                                                                                   \n                                                                                                                   \n                                                                                                                   \n                                                                                                                   \n                                                                                                                   \n                                                                                                                   \n                                                                                                                   \n                                                                                                                   \n                                                                                                                   \n                                                       LOGS                                                        \n  \u001b[2;36m[07/08/25 20:09:47]\u001b[0m\u001b[2;36m \u001b[0m\u001b[33mWARNING \u001b[0m \u001b[1;35mFileSystem\u001b[0m\u001b[1m(\u001b[0mparking_stream.csv\u001b[1m)\u001b[0m: Closing the data source                             \n                                                                                                                   \n                                                                                                                   \n                                                                                                                   \n                                                                                                                   \n                                                                                                                   \n                                                                                                                   \n                                                                                                                   \n                                                                                                                   \n                                                                                                                   \n                                                                                                                   \n                                                                                                                   \n                                                                                                                   \n                                                                                                                   \n                                                                                                                   \n                                                                                                                   \n                                                                                                                   \n                                                                                                                   \n                                                                                                                   \n                                                                                                                   \n                                                                                                                   \n                                                                                                                   \n                                                                                                                   \n                                                                                                                   \n                                                                                                                   \n                                                                                                                   \n                                                                                                                   \n                                                                                                                   \n                                                                                                                   \n                                                                                                                   \n                                                                                                                   \n                                                                                                                   \n                                                                                                                   \n                                                                                                                   \n                                                                                                                   \n                                                                                                                   \n                                                                                                                   \n                                                                                                                   \n                                                                                                                   \n                                                                                                                   \n                                                                                                                   \n                                                                                                                   \n                                                                                                                   \n                                                                                                                   \n                                                                                                                   \n                                                                                                                   \n                                                                                                                   \n                                                                                                                   \n                                                                                                                   \n"
        },
        "metadata": {},
        "output_type": "display_data"
       }
      ],
      "tabbable": null,
      "tooltip": null
     }
    }
   }
  }
 },
 "nbformat": 4,
 "nbformat_minor": 4
}
